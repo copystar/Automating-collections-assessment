{
 "cells": [
  {
   "cell_type": "code",
   "execution_count": 37,
   "metadata": {},
   "outputs": [],
   "source": [
    "from scopus import ScopusSearch\n",
    "import pandas as pd\n",
    "import time\n",
    "import requests\n",
    "\n",
    "# Start a timer\n",
    "start_time = time.time()\n",
    "\n",
    "# Import list of researchers as a dataframe\n",
    "df_facultyMembers = pd.read_csv('researchers.csv')"
   ]
  },
  {
   "cell_type": "code",
   "execution_count": 2,
   "metadata": {},
   "outputs": [],
   "source": [
    "# Create an empty list for author Scopus IDs\n",
    "authors = []\n",
    "\n",
    "# Populate list with Scopus IDs from the facutly member dataframe\n",
    "for scopusID in df_facultyMembers['scopusID']:\n",
    "    authors.append(scopusID)"
   ]
  },
  {
   "cell_type": "code",
   "execution_count": 3,
   "metadata": {},
   "outputs": [],
   "source": [
    "# Create the query of Scopus IDs that will be used in the API call\n",
    "# Create an empty string\n",
    "query = ''\n",
    "# Add every Scopus ID to the string except for the last one, because the query command must not end with \"OR\"\n",
    "for author in authors[:-1]:\n",
    "    query = query + 'AU-ID(' + str(author) + ') OR '\n",
    "# Add the last Scopus ID  \n",
    "query = query + 'AU-ID(' + str(authors[-1]) + ')'"
   ]
  },
  {
   "cell_type": "code",
   "execution_count": 4,
   "metadata": {},
   "outputs": [],
   "source": [
    "s = ScopusSearch('{}'.format(query), refresh=True, subscriber=True)"
   ]
  },
  {
   "cell_type": "code",
   "execution_count": 5,
   "metadata": {},
   "outputs": [
    {
     "name": "stdout",
     "output_type": "stream",
     "text": [
      "--- 79.8922348022461 seconds ---\n"
     ]
    }
   ],
   "source": [
    "print(\"--- %s seconds ---\" % (time.time() - start_time))"
   ]
  },
  {
   "cell_type": "code",
   "execution_count": 6,
   "metadata": {},
   "outputs": [],
   "source": [
    "# Convert API results into a dataframe\n",
    "df = pd.DataFrame(pd.DataFrame(s.results))"
   ]
  },
  {
   "cell_type": "code",
   "execution_count": 9,
   "metadata": {},
   "outputs": [],
   "source": [
    "# Convert appropriate data into ints\n",
    "df[\"citedby_count\"] = pd.to_numeric(df[\"citedby_count\"])\n",
    "df[\"openacess\"] = pd.to_numeric(df[\"openaccess\"])\n",
    "df[\"author_count\"] = pd.to_numeric(df[\"author_count\"])"
   ]
  },
  {
   "cell_type": "code",
   "execution_count": 13,
   "metadata": {},
   "outputs": [],
   "source": [
    "# Add number of times a journal has been published in\n",
    "df['count'] = df.groupby('source_id')['source_id'].transform('count')"
   ]
  },
  {
   "cell_type": "code",
   "execution_count": 15,
   "metadata": {},
   "outputs": [],
   "source": [
    "# Create a new dataframe of journals, with duplicates of journals removed\n",
    "df_journals = df.drop_duplicates('source_id')"
   ]
  },
  {
   "cell_type": "code",
   "execution_count": 16,
   "metadata": {},
   "outputs": [],
   "source": [
    "# Get rid of unnessary columns\n",
    "df_journals = df_journals[['publicationName','source_id', 'issn', 'eIssn', 'aggregationType', 'count']]"
   ]
  },
  {
   "cell_type": "code",
   "execution_count": 33,
   "metadata": {},
   "outputs": [],
   "source": [
    "# Sort the dataframe by publication count\n",
    "df_journals = df_journals.sort_values(by=['count'], ascending=False)"
   ]
  },
  {
   "cell_type": "code",
   "execution_count": 34,
   "metadata": {},
   "outputs": [],
   "source": [
    "# Reset the index count for this dataframe\n",
    "df_journals = df_journals.reset_index(drop=True)"
   ]
  },
  {
   "cell_type": "code",
   "execution_count": 35,
   "metadata": {},
   "outputs": [],
   "source": [
    "# delete all rows where aggregate type is not a journal\n",
    "indexNames = df_journals[df_journals['aggregationType'] != 'Journal'].index\n",
    "df_journals.drop(indexNames, inplace=True)\n",
    "\n",
    "# delete all rows where there is no source ID\n",
    "indexNames = df_journals[df_journals.source_id.isnull()].index\n",
    "df_journals.drop(indexNames, inplace=True)\n",
    "\n",
    "# delete all rows where there is no ISSN and eISSN\n",
    "indexNames = df_journals[df_journals.issn.isnull() & df_journals.eIssn.isnull()].index\n",
    "df_journals.drop(indexNames , inplace=True)"
   ]
  },
  {
   "cell_type": "code",
   "execution_count": 3,
   "metadata": {
    "scrolled": false
   },
   "outputs": [
    {
     "ename": "NameError",
     "evalue": "name 'df_journals' is not defined",
     "output_type": "error",
     "traceback": [
      "\u001b[0;31m---------------------------------------------------------------------------\u001b[0m",
      "\u001b[0;31mNameError\u001b[0m                                 Traceback (most recent call last)",
      "\u001b[0;32m<ipython-input-3-cfb60594bef9>\u001b[0m in \u001b[0;36m<module>\u001b[0;34m\u001b[0m\n\u001b[0;32m----> 1\u001b[0;31m \u001b[0mdf_journals\u001b[0m\u001b[0;34m\u001b[0m\u001b[0;34m\u001b[0m\u001b[0m\n\u001b[0m",
      "\u001b[0;31mNameError\u001b[0m: name 'df_journals' is not defined"
     ]
    }
   ],
   "source": [
    "df_journals"
   ]
  },
  {
   "cell_type": "code",
   "execution_count": 2,
   "metadata": {},
   "outputs": [
    {
     "ename": "NameError",
     "evalue": "name 'df_journals' is not defined",
     "output_type": "error",
     "traceback": [
      "\u001b[0;31m---------------------------------------------------------------------------\u001b[0m",
      "\u001b[0;31mNameError\u001b[0m                                 Traceback (most recent call last)",
      "\u001b[0;32m<ipython-input-2-035ff49e9525>\u001b[0m in \u001b[0;36m<module>\u001b[0;34m\u001b[0m\n\u001b[0;32m----> 1\u001b[0;31m \u001b[0mdf_journals\u001b[0m\u001b[0;34m.\u001b[0m\u001b[0mto_csv\u001b[0m\u001b[0;34m(\u001b[0m\u001b[0;34m'journals.csv'\u001b[0m\u001b[0;34m)\u001b[0m\u001b[0;34m\u001b[0m\u001b[0;34m\u001b[0m\u001b[0m\n\u001b[0m",
      "\u001b[0;31mNameError\u001b[0m: name 'df_journals' is not defined"
     ]
    }
   ],
   "source": [
    "df_journals.to_csv('journals.csv')"
   ]
  },
  {
   "cell_type": "code",
   "execution_count": null,
   "metadata": {},
   "outputs": [],
   "source": []
  }
 ],
 "metadata": {
  "kernelspec": {
   "display_name": "Python 3",
   "language": "python",
   "name": "python3"
  },
  "language_info": {
   "codemirror_mode": {
    "name": "ipython",
    "version": 3
   },
   "file_extension": ".py",
   "mimetype": "text/x-python",
   "name": "python",
   "nbconvert_exporter": "python",
   "pygments_lexer": "ipython3",
   "version": "3.7.3"
  }
 },
 "nbformat": 4,
 "nbformat_minor": 2
}

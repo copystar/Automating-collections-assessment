{
 "cells": [
  {
   "cell_type": "code",
   "execution_count": 2,
   "metadata": {},
   "outputs": [
    {
     "name": "stdout",
     "output_type": "stream",
     "text": [
      "package Elsevier SD Freedom Collection\n",
      "availability not available\n",
      "package CRKN Elsevier ScienceDirect\n",
      "availability Available from 1993 volume: 14 issue: 1 until 2009 volume: 64 issue: 4.<br>\n",
      "package Scholars Portal\n",
      "availability Available from 1993 volume: 14 issue: 1 until 2009 volume: 64 issue: 4.<br>\n"
     ]
    }
   ],
   "source": [
    "#!/usr/bin/env python\n",
    "import urllib\n",
    "from urllib.request import urlopen\n",
    "import xml.etree.ElementTree as etree\n",
    "\n",
    "ns = {'resolver': 'http://com/exlibris/urm/uresolver/xmlbeans/u'}\n",
    "\n",
    "#return unavailable message if element has no text\n",
    "def getText(elem):\n",
    "    try:\n",
    "        msg = elem.text  \n",
    "    except:\n",
    "        msg = \"\"\n",
    "\n",
    "    if msg is None:\n",
    "        msg = \"not available\"\n",
    "\n",
    "    return msg\n",
    "\n",
    "test_url = \"http://na01.alma.exlibrisgroup.com/view/uresolver/01UTON_UW/openurl?svc_dat=CTO&issn=01966774\"\n",
    "response = urllib.request.urlopen(test_url)\n",
    "tree = etree.parse(response)\n",
    "root = tree.getroot()\n",
    "\n",
    "#use xpath to get context_services\n",
    "for service in root.findall('.//resolver:context_service[@service_type=\"getFullTxt\"]',ns):\n",
    "    #can use a find for elements that occur once\n",
    "    package = service.find('.//resolver:key[@id=\"package_public_name\"]',ns)\n",
    "    print(\"package\", getText(package))\n",
    "    avail = service.find('.//resolver:key[@id=\"Availability\"]',ns)\n",
    "    print(\"availability\", getText(avail))\n"
   ]
  },
  {
   "cell_type": "code",
   "execution_count": null,
   "metadata": {},
   "outputs": [],
   "source": []
  }
 ],
 "metadata": {
  "kernelspec": {
   "display_name": "Python 3",
   "language": "python",
   "name": "python3"
  },
  "language_info": {
   "codemirror_mode": {
    "name": "ipython",
    "version": 3
   },
   "file_extension": ".py",
   "mimetype": "text/x-python",
   "name": "python",
   "nbconvert_exporter": "python",
   "pygments_lexer": "ipython3",
   "version": "3.7.3"
  }
 },
 "nbformat": 4,
 "nbformat_minor": 2
}
